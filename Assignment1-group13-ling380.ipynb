{
  "cells": [
    {
      "cell_type": "markdown",
      "id": "ccda3183-d9ac-47a0-82c4-651ff7b214e2",
      "metadata": {
        "id": "ccda3183-d9ac-47a0-82c4-651ff7b214e2"
      },
      "source": [
        "# LING 380 - Assignment 1 (Group 13)\n",
        "\n",
        "### Group Members & Responsibilities\n",
        "\n",
        "| Name (Last, First) | Student ID | Section Contributed | Section Edited | Other Contributions |\n",
        "|---|---|---|---|---|\n",
        "| Intanon, Supamongkol | 301541005 | Data collection, cleaning | Code review | Set up GitHub repo |\n",
        "| Matthew Miguel  | 301422631 | Analysis code (token count, diversity, frequency) | Final formatting | Group communication |\n",
        "| Member 3  |(student number) |absent | absent | absent |\n",
        "\n",
        "## responsibility section can be change later\n"
      ]
    },
    {
      "cell_type": "markdown",
      "source": [
        "# Import Libraries"
      ],
      "metadata": {
        "id": "Qziu3fhfgTyM"
      },
      "id": "Qziu3fhfgTyM"
    },
    {
      "cell_type": "code",
      "source": [
        "!pip install nltk\n",
        "import os\n",
        "import csv\n",
        "import re\n",
        "import nltk\n",
        "from nltk.tokenize import word_tokenize\n",
        "from nltk import FreqDist"
      ],
      "metadata": {
        "id": "F-jpgy2AgZYA"
      },
      "id": "F-jpgy2AgZYA",
      "execution_count": null,
      "outputs": []
    },
    {
      "cell_type": "markdown",
      "id": "649f8f97-c7bc-4b3d-917e-6f70ea230051",
      "metadata": {
        "id": "649f8f97-c7bc-4b3d-917e-6f70ea230051"
      },
      "source": [
        "## Data Collection Process\n",
        "\n",
        "| Genre | Source | Link |\n",
        "|---|---|---|\n",
        "| Fiction | Project Gutenburg - Pride and Prejudice, Jane Austen | [https://www.gutenberg.org/ebooks/1342](https://www.gutenberg.org/ebooks/1342) |\n",
        "| Academic Essays | Project Gutenburg - Humanistic Studies of the University of Kansas | [https://www.gutenberg.org/ebooks/51685](https://www.gutenberg.org/ebooks/51685) |\n",
        "| Autobiographies | Project Gutenburg - My Life Vol 1, Richard Wagner | [https://www.gutenberg.org/ebooks/5197](https://www.imsdb.com) |"
      ]
    },
    {
      "cell_type": "markdown",
      "source": [
        "#Function to Clean Files"
      ],
      "metadata": {
        "id": "V3sgi0XgEVBi"
      },
      "id": "V3sgi0XgEVBi"
    },
    {
      "cell_type": "code",
      "execution_count": null,
      "id": "35a4e9b3-70e6-4d85-abfb-60d71e35f5be",
      "metadata": {
        "id": "35a4e9b3-70e6-4d85-abfb-60d71e35f5be"
      },
      "outputs": [],
      "source": []
    },
    {
      "cell_type": "code",
      "execution_count": null,
      "id": "b3f14223-1993-4ff6-9a4d-c18aa91cf6a6",
      "metadata": {
        "id": "b3f14223-1993-4ff6-9a4d-c18aa91cf6a6"
      },
      "outputs": [],
      "source": []
    },
    {
      "cell_type": "code",
      "execution_count": null,
      "id": "f0239ba1-9a90-4f94-882e-01a818ed63b3",
      "metadata": {
        "id": "f0239ba1-9a90-4f94-882e-01a818ed63b3"
      },
      "outputs": [],
      "source": []
    },
    {
      "cell_type": "markdown",
      "id": "df2d1efc-2eac-47e9-b2a3-16093f099d33",
      "metadata": {
        "id": "df2d1efc-2eac-47e9-b2a3-16093f099d33"
      },
      "source": [
        "## Data Processing Summary\n",
        "\n",
        "- Raw files were manually collected and placed in `raw_data/`.\n",
        "- Files were combined into single files per genre in `combined_data/`.\n",
        "- Files were cleaned (removing HTML, headers, extra spacing) and saved to `data/`.\n",
        "- These cleaned files are ready for analysis.\n"
      ]
    },
    {
      "cell_type": "code",
      "execution_count": null,
      "id": "493fa814-d162-4435-9fc6-881bab3cf25c",
      "metadata": {
        "id": "493fa814-d162-4435-9fc6-881bab3cf25c"
      },
      "outputs": [],
      "source": []
    },
    {
      "cell_type": "code",
      "execution_count": null,
      "id": "ea34bac5-ad38-4f3e-ba80-943be50ddc3e",
      "metadata": {
        "id": "ea34bac5-ad38-4f3e-ba80-943be50ddc3e"
      },
      "outputs": [],
      "source": []
    }
  ],
  "metadata": {
    "kernelspec": {
      "display_name": "Python [conda env:base] *",
      "language": "python",
      "name": "conda-base-py"
    },
    "language_info": {
      "codemirror_mode": {
        "name": "ipython",
        "version": 3
      },
      "file_extension": ".py",
      "mimetype": "text/x-python",
      "name": "python",
      "nbconvert_exporter": "python",
      "pygments_lexer": "ipython3",
      "version": "3.12.7"
    },
    "colab": {
      "provenance": []
    }
  },
  "nbformat": 4,
  "nbformat_minor": 5
}