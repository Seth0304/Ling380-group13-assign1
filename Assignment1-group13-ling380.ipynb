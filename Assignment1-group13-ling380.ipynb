{
 "cells": [
  {
   "cell_type": "markdown",
   "id": "ccda3183-d9ac-47a0-82c4-651ff7b214e2",
   "metadata": {
    "id": "ccda3183-d9ac-47a0-82c4-651ff7b214e2"
   },
   "source": [
    "# LING 380 - Assignment 1 (Group 13)\n",
    "\n",
    "### Group Members & Responsibilities\n",
    "\n",
    "| Name (Last, First) | Student ID | Section Contributed | Section Edited | Other Contributions |\n",
    "|---|---|---|---|---|\n",
    "| Miguel, Matthew | 301422631 | Data collection, cleaning | Code review | Set up GitHub repo |\n",
    "| Intanon, Supamongkol  | 301541005 | Analysis code (token count, diversity, frequency) | Final formatting | Group communication |\n",
    "| Member 3  |(student number) |absent | absent | absent |\n"
   ]
  },
  {
   "cell_type": "markdown",
   "id": "Qziu3fhfgTyM",
   "metadata": {
    "id": "Qziu3fhfgTyM"
   },
   "source": [
    "## Import Libraries"
   ]
  },
  {
   "cell_type": "code",
   "execution_count": 61,
   "id": "F-jpgy2AgZYA",
   "metadata": {
    "colab": {
     "base_uri": "https://localhost:8080/"
    },
    "id": "F-jpgy2AgZYA",
    "outputId": "f4e1ac90-5dcb-4825-e73a-ea97dba32c66",
    "scrolled": true
   },
   "outputs": [
    {
     "name": "stdout",
     "output_type": "stream",
     "text": [
      "Requirement already satisfied: nltk in c:\\users\\npspt\\anaconda3\\lib\\site-packages (3.9.1)\n",
      "Requirement already satisfied: click in c:\\users\\npspt\\anaconda3\\lib\\site-packages (from nltk) (8.1.7)\n",
      "Requirement already satisfied: joblib in c:\\users\\npspt\\anaconda3\\lib\\site-packages (from nltk) (1.4.2)\n",
      "Requirement already satisfied: regex>=2021.8.3 in c:\\users\\npspt\\anaconda3\\lib\\site-packages (from nltk) (2024.9.11)\n",
      "Requirement already satisfied: tqdm in c:\\users\\npspt\\anaconda3\\lib\\site-packages (from nltk) (4.66.5)\n",
      "Requirement already satisfied: colorama in c:\\users\\npspt\\anaconda3\\lib\\site-packages (from click->nltk) (0.4.6)\n"
     ]
    },
    {
     "name": "stderr",
     "output_type": "stream",
     "text": [
      "[nltk_data] Downloading package punkt to\n",
      "[nltk_data]     C:\\Users\\npspt\\AppData\\Roaming\\nltk_data...\n",
      "[nltk_data]   Package punkt is already up-to-date!\n"
     ]
    }
   ],
   "source": [
    "!pip install nltk\n",
    "import os\n",
    "import csv\n",
    "import re\n",
    "import nltk\n",
    "import spacy\n",
    "from nltk.tokenize import word_tokenize\n",
    "from nltk import FreqDist\n",
    "nltk.download('punkt')\n",
    "nlp = spacy.load(\"en_core_web_sm\")\n",
    "nlp.max_length = 2000000"
   ]
  },
  {
   "cell_type": "markdown",
   "id": "649f8f97-c7bc-4b3d-917e-6f70ea230051",
   "metadata": {
    "id": "649f8f97-c7bc-4b3d-917e-6f70ea230051"
   },
   "source": [
    "## Data Collection Process\n",
    "\n",
    "| Genre | Source | Link |\n",
    "|---|---|---|\n",
    "| Fiction | Project Gutenburg - Pride and Prejudice, Jane Austen | [https://www.gutenberg.org/ebooks/1342](https://www.gutenberg.org/ebooks/1342) |\n",
    "| Academic Essays | Project Gutenburg - Humanistic Studies of the University of Kansas | [https://www.gutenberg.org/ebooks/51685](https://www.gutenberg.org/ebooks/51685) |\n",
    "| Autobiographies | Project Gutenburg - My Life Vol 1, Richard Wagner | [https://www.gutenberg.org/ebooks/5197](https://www.imsdb.com) |"
   ]
  },
  {
   "cell_type": "markdown",
   "id": "V3sgi0XgEVBi",
   "metadata": {
    "id": "V3sgi0XgEVBi"
   },
   "source": [
    "## Data Cleaning Functions"
   ]
  },
  {
   "cell_type": "code",
   "execution_count": 47,
   "id": "35a4e9b3-70e6-4d85-abfb-60d71e35f5be",
   "metadata": {
    "colab": {
     "base_uri": "https://localhost:8080/"
    },
    "id": "35a4e9b3-70e6-4d85-abfb-60d71e35f5be",
    "outputId": "f23f1b9f-dbbf-453e-85b0-1a3156993a8a"
   },
   "outputs": [
    {
     "name": "stdout",
     "output_type": "stream",
     "text": [
      "True\n",
      "True\n",
      "True\n"
     ]
    }
   ],
   "source": [
    "print(os.path.exists(\"./data/pg1342.txt\"))\n",
    "print(os.path.exists(\"./data/pg51685.txt\"))\n",
    "print(os.path.exists(\"./data/pg5197.txt\"))"
   ]
  },
  {
   "cell_type": "code",
   "execution_count": 49,
   "id": "b3f14223-1993-4ff6-9a4d-c18aa91cf6a6",
   "metadata": {
    "colab": {
     "base_uri": "https://localhost:8080/"
    },
    "id": "b3f14223-1993-4ff6-9a4d-c18aa91cf6a6",
    "outputId": "b22a9466-a015-4745-dae1-ceb6d81f61b7"
   },
   "outputs": [],
   "source": [
    "def remove_gutenberg_metadata(text):\n",
    "    text = re.sub(r'^.*?\\*\\*\\* START OF.*?\\*\\*\\*', '', text, flags=re.DOTALL)\n",
    "    text = re.sub(r'\\*\\*\\* END OF.*?\\*\\*\\*.*$', '', text, flags=re.DOTALL)\n",
    "    return text.strip()\n",
    "\n",
    "def load_and_clean_file(filepath):\n",
    "    with open(filepath, 'r', encoding='utf-8') as file:\n",
    "        text = file.read()\n",
    "    return remove_gutenberg_metadata(text)\n"
   ]
  },
  {
   "cell_type": "markdown",
   "id": "ER0vl1RPKlm_",
   "metadata": {
    "id": "ER0vl1RPKlm_"
   },
   "source": [
    "#### File paths and loading data"
   ]
  },
  {
   "cell_type": "code",
   "execution_count": 51,
   "id": "FabCmBHmKlD8",
   "metadata": {
    "colab": {
     "base_uri": "https://localhost:8080/"
    },
    "id": "FabCmBHmKlD8",
    "outputId": "3b043a4e-4453-4302-912c-5ab3d7bb6f76"
   },
   "outputs": [],
   "source": [
    "data_folder = \"./data/\"\n",
    "files = {\n",
    "    \"fiction\": os.path.join(data_folder, \"pg1342.txt\"),\n",
    "    \"academic\": os.path.join(data_folder, \"pg51685.txt\"),\n",
    "    \"autobiography\": os.path.join(data_folder, \"pg5197.txt\")\n",
    "}\n",
    "\n",
    "texts = {genre: load_and_clean_file(path) for genre, path in files.items()}\n"
   ]
  },
  {
   "cell_type": "markdown",
   "id": "df2d1efc-2eac-47e9-b2a3-16093f099d33",
   "metadata": {
    "id": "df2d1efc-2eac-47e9-b2a3-16093f099d33"
   },
   "source": [
    "## Analysis Functions"
   ]
  },
  {
   "cell_type": "code",
   "execution_count": 63,
   "id": "493fa814-d162-4435-9fc6-881bab3cf25c",
   "metadata": {
    "id": "493fa814-d162-4435-9fc6-881bab3cf25c"
   },
   "outputs": [],
   "source": [
    "def token_count(text):\n",
    "    tokens = word_tokenize(text)\n",
    "    return len(tokens)\n",
    "\n",
    "def lexical_diversity(text):\n",
    "    tokens = word_tokenize(text)\n",
    "    return len(set(tokens)) / len(tokens)\n",
    "\n",
    "def top_10_words(text):\n",
    "    tokens = word_tokenize(text)\n",
    "    words_only = [word.lower() for word in tokens if word.isalpha()]\n",
    "    freq_dist = FreqDist(words_only)\n",
    "    return freq_dist.most_common(10)\n",
    "\n",
    "def extract_named_entities(text):\n",
    "    doc = nlp(text)\n",
    "    entities = [ent.text for ent in doc.ents]\n",
    "    return entities\n"
   ]
  },
  {
   "cell_type": "markdown",
   "id": "5f6d3d43-1ce9-419e-95f8-7d8aea444e35",
   "metadata": {
    "id": "ea34bac5-ad38-4f3e-ba80-943be50ddc3e"
   },
   "source": [
    "#### Apply analysis to each genre"
   ]
  },
  {
   "cell_type": "code",
   "execution_count": 55,
   "id": "8c3b08bd-3ebf-4858-a97e-cc146e023749",
   "metadata": {},
   "outputs": [
    {
     "name": "stdout",
     "output_type": "stream",
     "text": [
      "\n",
      "=== Analysis for fiction ===\n",
      "Token Count: 151020\n",
      "Lexical Diversity: 0.0540\n",
      "Top 10 Words: [('the', 4654), ('to', 4296), ('of', 3836), ('and', 3751), ('her', 2248), ('i', 2097), ('a', 2033), ('in', 1975), ('was', 1868), ('she', 1732)]\n",
      "Sample Named Entities: ['GEORGE ALLEN\\n                               ', '156', 'LONDON', 'Reading Jane’s Letters', '34', 'Jane Austen', 'Preface', 'George Saintsbury', 'Hugh Thomson', '1894']\n",
      "\n",
      "=== Analysis for academic ===\n",
      "Token Count: 131641\n",
      "Lexical Diversity: 0.1090\n",
      "Top 10 Words: [('the', 6896), ('of', 5179), ('in', 2946), ('and', 2648), ('is', 2600), ('to', 2195), ('a', 2180), ('that', 1192), ('it', 1156), ('as', 1092)]\n",
      "Sample Named Entities: ['TRANSCRIBER', 'four', 'two', 'three', 'four', 'two', 'the Table of Contents', 'Indexes', 'KANSAS\\n  PUBLISHED BY THE UNIVERSITY', '1915']\n",
      "\n",
      "=== Analysis for autobiography ===\n",
      "Token Count: 245267\n",
      "Lexical Diversity: 0.0597\n",
      "Top 10 Words: [('the', 13584), ('of', 8521), ('to', 8076), ('and', 5338), ('i', 5301), ('in', 5006), ('a', 4572), ('my', 3936), ('was', 3752), ('had', 3433)]\n",
      "Sample Named Entities: ['Richard Wagner', 'TWO', '1', 'GERMAN', '1813-1842', '1842-1850', 'several years', 'one', 'Richard Wagner', 'CONTENTS']\n"
     ]
    }
   ],
   "source": [
    "analysis_results = {}\n",
    "\n",
    "for genre, text in texts.items():\n",
    "    analysis_results[genre] = {\n",
    "        \"token_count\": token_count(text),\n",
    "        \"lexical_diversity\": lexical_diversity(text),\n",
    "        \"top_10_words\": top_10_words(text),\n",
    "        \"named_entities\": extract_named_entities(text)\n",
    "    }\n",
    "\n",
    "for genre, result in analysis_results.items():\n",
    "    print(f\"\\n=== Analysis for {genre} ===\")\n",
    "    print(f\"Token Count: {result['token_count']}\")\n",
    "    print(f\"Lexical Diversity: {result['lexical_diversity']:.4f}\")\n",
    "    print(f\"Top 10 Words: {result['top_10_words']}\")\n",
    "    print(f\"Sample Named Entities: {result['named_entities'][:10]}\")\n"
   ]
  },
  {
   "cell_type": "markdown",
   "id": "daf9a051-2c4d-46f1-99cf-3240d4b80d73",
   "metadata": {},
   "source": [
    "## Final Reflection\n",
    "\n",
    "### a) Most Frequent Words - What do they tell you?\n",
    "- Fiction: Frequent use of pronouns (\"her,\" \"she\") shows focus on characters and narration.\n",
    "- Academic: Dominated by functional words, showing formal, analytical style.\n",
    "- Autobiography: High frequency of \"I\" and \"my\", emphasizing personal reflection.\n",
    "\n",
    "### b) Named Entities - What do they reveal?\n",
    "- Fiction: Captured some author and publication details, but missed many characters.\n",
    "- Academic: Focused on publication metadata instead of key academic terms.\n",
    "- Autobiography: Captured names, dates, and events, which fits the personal nature.\n",
    "\n",
    "### c) Named Entity Accuracy\n",
    "- Fiction & Academic: Partly correct, but spaCy overfocuses on document structure.\n",
    "- Academic: It catches publication details but misses key academic terms and authors, showing spaCy isn’t well-tuned for academic texts.\n",
    "- Autobiography: Mostly correct, as names and historical periods were identified well.\n",
    "\n",
    "### d) Interpreting Lexical Diversity \n",
    "- Fiction (0.0540): Low diversity due to repetitive storytelling language.\n",
    "- Academic (0.1090): Highest diversity due to technical terminology.\n",
    "- Autobiography (0.0597): Similar to fiction, as personal stories often repeat key names and places.\n"
   ]
  },
  {
   "cell_type": "code",
   "execution_count": null,
   "id": "6787bab0-0e7c-4c43-bb73-2dc76dfbf50f",
   "metadata": {},
   "outputs": [],
   "source": []
  }
 ],
 "metadata": {
  "colab": {
   "provenance": []
  },
  "kernelspec": {
   "display_name": "Python [conda env:base] *",
   "language": "python",
   "name": "conda-base-py"
  },
  "language_info": {
   "codemirror_mode": {
    "name": "ipython",
    "version": 3
   },
   "file_extension": ".py",
   "mimetype": "text/x-python",
   "name": "python",
   "nbconvert_exporter": "python",
   "pygments_lexer": "ipython3",
   "version": "3.12.7"
  }
 },
 "nbformat": 4,
 "nbformat_minor": 5
}
