{
 "cells": [
  {
   "cell_type": "markdown",
   "id": "ccda3183-d9ac-47a0-82c4-651ff7b214e2",
   "metadata": {},
   "source": [
    "# LING 380 - Assignment 1 (Group 13)\n",
    "\n",
    "### Group Members & Responsibilities\n",
    "\n",
    "| Name (Last, First) | Student ID | Section Contributed | Section Edited | Other Contributions |\n",
    "|---|---|---|---|---|\n",
    "| Intanon, Supamongkol | 123456789 | Data collection, cleaning | Code review | Set up GitHub repo |\n",
    "| Member 2  | (student number) | Analysis code (token count, diversity, frequency) | Final formatting | Group communication |\n",
    "| Member 3  |(student number) | Named entity analysis, reflection write-up | Overall editing | Documentation and source listing |\n",
    "\n",
    "## responsibility section can be change later\n"
   ]
  },
  {
   "cell_type": "code",
   "execution_count": null,
   "id": "8a227bdb-ada0-46c1-9128-288457d07f61",
   "metadata": {},
   "outputs": [],
   "source": []
  },
  {
   "cell_type": "code",
   "execution_count": null,
   "id": "b3f14223-1993-4ff6-9a4d-c18aa91cf6a6",
   "metadata": {},
   "outputs": [],
   "source": []
  }
 ],
 "metadata": {
  "kernelspec": {
   "display_name": "Python [conda env:base] *",
   "language": "python",
   "name": "conda-base-py"
  },
  "language_info": {
   "codemirror_mode": {
    "name": "ipython",
    "version": 3
   },
   "file_extension": ".py",
   "mimetype": "text/x-python",
   "name": "python",
   "nbconvert_exporter": "python",
   "pygments_lexer": "ipython3",
   "version": "3.12.7"
  }
 },
 "nbformat": 4,
 "nbformat_minor": 5
}
